{
 "cells": [
  {
   "cell_type": "code",
   "execution_count": 5,
   "metadata": {},
   "outputs": [],
   "source": [
    "using LinearAlgebra\n",
    "using SparseArrays"
   ]
  },
  {
   "cell_type": "code",
   "execution_count": 34,
   "metadata": {},
   "outputs": [
    {
     "name": "stdout",
     "output_type": "stream",
     "text": [
      "typeof(A) = SparseMatrixCSC{Float64,Int64}\n",
      "L = UMFPACK LU Factorization of a (10, 10) sparse matrix\n",
      "Ptr{Nothing} @0x0000000003959360\n"
     ]
    },
    {
     "data": {
      "text/plain": [
       "UMFPACK LU Factorization of a (10, 10) sparse matrix\n",
       "Ptr{Nothing} @0x0000000003959360"
      ]
     },
     "execution_count": 34,
     "metadata": {},
     "output_type": "execute_result"
    }
   ],
   "source": [
    "A=zeros(10,10)\n",
    "Id=Matrix(I,10,10)\n",
    "A[3,3]=2\n",
    "A=A+Id\n",
    "\n",
    "A=sparse(A)\n",
    "@show typeof(A)\n",
    "L=lu(A)\n",
    "@show L\n"
   ]
  },
  {
   "cell_type": "code",
   "execution_count": 13,
   "metadata": {},
   "outputs": [
    {
     "name": "stdout",
     "output_type": "stream",
     "text": [
      "A = [1.0 0.0 0.0 0.0 0.0 0.0 0.0 0.0 0.0 0.0; 0.0 0.0 0.0 0.0 0.0 0.0 0.0 0.0 0.0 0.0; 0.0 0.0 0.0 0.0 0.0 0.0 0.0 0.0 0.0 0.0; 0.0 0.0 0.0 0.0 0.0 0.0 0.0 0.0 0.0 0.0; 0.0 0.0 0.0 0.0 0.0 0.0 0.0 0.0 0.0 0.0; 0.0 0.0 0.0 0.0 0.0 0.0 0.0 0.0 0.0 0.0; 0.0 0.0 0.0 0.0 0.0 0.0 0.0 0.0 0.0 0.0; 0.0 0.0 0.0 0.0 0.0 0.0 0.0 0.0 0.0 0.0; 0.0 0.0 0.0 0.0 0.0 0.0 0.0 0.0 0.0 0.0; 0.0 0.0 0.0 0.0 0.0 0.0 0.0 0.0 0.0 0.0]\n"
     ]
    },
    {
     "data": {
      "text/plain": [
       "10×10 Array{Float64,2}:\n",
       " 1.0  0.0  0.0  0.0  0.0  0.0  0.0  0.0  0.0  0.0\n",
       " 0.0  0.0  0.0  0.0  0.0  0.0  0.0  0.0  0.0  0.0\n",
       " 0.0  0.0  0.0  0.0  0.0  0.0  0.0  0.0  0.0  0.0\n",
       " 0.0  0.0  0.0  0.0  0.0  0.0  0.0  0.0  0.0  0.0\n",
       " 0.0  0.0  0.0  0.0  0.0  0.0  0.0  0.0  0.0  0.0\n",
       " 0.0  0.0  0.0  0.0  0.0  0.0  0.0  0.0  0.0  0.0\n",
       " 0.0  0.0  0.0  0.0  0.0  0.0  0.0  0.0  0.0  0.0\n",
       " 0.0  0.0  0.0  0.0  0.0  0.0  0.0  0.0  0.0  0.0\n",
       " 0.0  0.0  0.0  0.0  0.0  0.0  0.0  0.0  0.0  0.0\n",
       " 0.0  0.0  0.0  0.0  0.0  0.0  0.0  0.0  0.0  0.0"
      ]
     },
     "execution_count": 13,
     "metadata": {},
     "output_type": "execute_result"
    }
   ],
   "source": [
    "@show A"
   ]
  },
  {
   "cell_type": "code",
   "execution_count": 10,
   "metadata": {},
   "outputs": [
    {
     "data": {
      "text/html": [
       "11 methods for generic function <b>lu</b>:<ul><li> lu(S::<b>SparseMatrixCSC{#s614,#s613} where #s613<:Union{Int32, Int64} where #s614<:Union{Complex{Float64}, Float64}</b>; <i>check</i>) in SuiteSparse.UMFPACK at <a href=\"file:///home/buildbot/build-worker/worker/juliapro-release-centos7-0_6/build/tmp_julia/share/julia/stdlib/v1.2/SuiteSparse/src/umfpack.jl\" target=\"_blank\">/home/buildbot/build-worker/worker/juliapro-release-centos7-0_6/build/tmp_julia/share/julia/stdlib/v1.2/SuiteSparse/src/umfpack.jl:154</a></li> <li> lu(A::<b>SparseMatrixCSC{#s615,Ti} where #s615<:Union{Float16, Float32}</b>; <i>check</i>)<i> where Ti<:Union{Int32, Int64}</i> in SuiteSparse.UMFPACK at <a href=\"file:///home/buildbot/build-worker/worker/juliapro-release-centos7-0_6/build/tmp_julia/share/julia/stdlib/v1.2/SuiteSparse/src/umfpack.jl\" target=\"_blank\">/home/buildbot/build-worker/worker/juliapro-release-centos7-0_6/build/tmp_julia/share/julia/stdlib/v1.2/SuiteSparse/src/umfpack.jl:165</a></li> <li> lu(A::<b>SparseMatrixCSC{#s615,Ti} where #s615<:Union{Complex{Float16}, Complex{Float32}}</b>; <i>check</i>)<i> where Ti<:Union{Int32, Int64}</i> in SuiteSparse.UMFPACK at <a href=\"file:///home/buildbot/build-worker/worker/juliapro-release-centos7-0_6/build/tmp_julia/share/julia/stdlib/v1.2/SuiteSparse/src/umfpack.jl\" target=\"_blank\">/home/buildbot/build-worker/worker/juliapro-release-centos7-0_6/build/tmp_julia/share/julia/stdlib/v1.2/SuiteSparse/src/umfpack.jl:168</a></li> <li> lu(A::<b>Union{SparseMatrixCSC{T,Ti} where Ti<:Integer, SparseMatrixCSC{Complex{T},Ti} where Ti<:Integer}</b>; <i>check</i>)<i> where T<:AbstractFloat</i> in SuiteSparse.UMFPACK at <a href=\"file:///home/buildbot/build-worker/worker/juliapro-release-centos7-0_6/build/tmp_julia/share/julia/stdlib/v1.2/SuiteSparse/src/umfpack.jl\" target=\"_blank\">/home/buildbot/build-worker/worker/juliapro-release-centos7-0_6/build/tmp_julia/share/julia/stdlib/v1.2/SuiteSparse/src/umfpack.jl:171</a></li> <li> lu(A::<b>SparseMatrixCSC</b>; <i>check</i>) in SuiteSparse.UMFPACK at <a href=\"file:///home/buildbot/build-worker/worker/juliapro-release-centos7-0_6/build/tmp_julia/share/julia/stdlib/v1.2/SuiteSparse/src/umfpack.jl\" target=\"_blank\">/home/buildbot/build-worker/worker/juliapro-release-centos7-0_6/build/tmp_julia/share/julia/stdlib/v1.2/SuiteSparse/src/umfpack.jl:176</a></li> <li> lu(A::<b>Union{AbstractArray{T,2}, AbstractArray{Complex{T},2}}</b>)<i> where T<:AbstractFloat</i> in LinearAlgebra at <a href=\"file:///home/buildbot/build-worker/worker/juliapro-release-centos7-0_6/build/tmp_julia/share/julia/stdlib/v1.2/LinearAlgebra/src/lu.jl\" target=\"_blank\">/home/buildbot/build-worker/worker/juliapro-release-centos7-0_6/build/tmp_julia/share/julia/stdlib/v1.2/LinearAlgebra/src/lu.jl:142</a></li> <li> lu(A::<b>Union{AbstractArray{T,2}, AbstractArray{Complex{T},2}}</b>, pivot::<b>Union{Val{false}, Val{true}}</b>; <i>check</i>)<i> where T<:AbstractFloat</i> in LinearAlgebra at <a href=\"file:///home/buildbot/build-worker/worker/juliapro-release-centos7-0_6/build/tmp_julia/share/julia/stdlib/v1.2/LinearAlgebra/src/lu.jl\" target=\"_blank\">/home/buildbot/build-worker/worker/juliapro-release-centos7-0_6/build/tmp_julia/share/julia/stdlib/v1.2/LinearAlgebra/src/lu.jl:142</a></li> <li> lu(A::<b>AbstractArray{T,2}</b>; <i>check</i>)<i> where T</i> in LinearAlgebra at <a href=\"file:///home/buildbot/build-worker/worker/juliapro-release-centos7-0_6/build/tmp_julia/share/julia/stdlib/v1.2/LinearAlgebra/src/lu.jl\" target=\"_blank\">/home/buildbot/build-worker/worker/juliapro-release-centos7-0_6/build/tmp_julia/share/julia/stdlib/v1.2/LinearAlgebra/src/lu.jl:242</a></li> <li> lu(A::<b>AbstractArray{T,2}</b>, pivot::<b>Union{Val{false}, Val{true}}</b>; <i>check</i>)<i> where T</i> in LinearAlgebra at <a href=\"file:///home/buildbot/build-worker/worker/juliapro-release-centos7-0_6/build/tmp_julia/share/julia/stdlib/v1.2/LinearAlgebra/src/lu.jl\" target=\"_blank\">/home/buildbot/build-worker/worker/juliapro-release-centos7-0_6/build/tmp_julia/share/julia/stdlib/v1.2/LinearAlgebra/src/lu.jl:235</a></li> <li> lu(S::<b>LU</b>) in LinearAlgebra at <a href=\"file:///home/buildbot/build-worker/worker/juliapro-release-centos7-0_6/build/tmp_julia/share/julia/stdlib/v1.2/LinearAlgebra/src/lu.jl\" target=\"_blank\">/home/buildbot/build-worker/worker/juliapro-release-centos7-0_6/build/tmp_julia/share/julia/stdlib/v1.2/LinearAlgebra/src/lu.jl:255</a></li> <li> lu(x::<b>Number</b>; <i>check</i>) in LinearAlgebra at <a href=\"file:///home/buildbot/build-worker/worker/juliapro-release-centos7-0_6/build/tmp_julia/share/julia/stdlib/v1.2/LinearAlgebra/src/lu.jl\" target=\"_blank\">/home/buildbot/build-worker/worker/juliapro-release-centos7-0_6/build/tmp_julia/share/julia/stdlib/v1.2/LinearAlgebra/src/lu.jl:257</a></li> </ul>"
      ],
      "text/plain": [
       "# 11 methods for generic function \"lu\":\n",
       "[1] lu(S::SparseMatrixCSC{#s614,#s613} where #s613<:Union{Int32, Int64} where #s614<:Union{Complex{Float64}, Float64}; check) in SuiteSparse.UMFPACK at /home/buildbot/build-worker/worker/juliapro-release-centos7-0_6/build/tmp_julia/share/julia/stdlib/v1.2/SuiteSparse/src/umfpack.jl:154\n",
       "[2] lu(A::SparseMatrixCSC{#s615,Ti} where #s615<:Union{Float16, Float32}; check) where Ti<:Union{Int32, Int64} in SuiteSparse.UMFPACK at /home/buildbot/build-worker/worker/juliapro-release-centos7-0_6/build/tmp_julia/share/julia/stdlib/v1.2/SuiteSparse/src/umfpack.jl:165\n",
       "[3] lu(A::SparseMatrixCSC{#s615,Ti} where #s615<:Union{Complex{Float16}, Complex{Float32}}; check) where Ti<:Union{Int32, Int64} in SuiteSparse.UMFPACK at /home/buildbot/build-worker/worker/juliapro-release-centos7-0_6/build/tmp_julia/share/julia/stdlib/v1.2/SuiteSparse/src/umfpack.jl:168\n",
       "[4] lu(A::Union{SparseMatrixCSC{T,Ti} where Ti<:Integer, SparseMatrixCSC{Complex{T},Ti} where Ti<:Integer}; check) where T<:AbstractFloat in SuiteSparse.UMFPACK at /home/buildbot/build-worker/worker/juliapro-release-centos7-0_6/build/tmp_julia/share/julia/stdlib/v1.2/SuiteSparse/src/umfpack.jl:171\n",
       "[5] lu(A::SparseMatrixCSC; check) in SuiteSparse.UMFPACK at /home/buildbot/build-worker/worker/juliapro-release-centos7-0_6/build/tmp_julia/share/julia/stdlib/v1.2/SuiteSparse/src/umfpack.jl:176\n",
       "[6] lu(A::Union{AbstractArray{T,2}, AbstractArray{Complex{T},2}}) where T<:AbstractFloat in LinearAlgebra at /home/buildbot/build-worker/worker/juliapro-release-centos7-0_6/build/tmp_julia/share/julia/stdlib/v1.2/LinearAlgebra/src/lu.jl:142\n",
       "[7] lu(A::Union{AbstractArray{T,2}, AbstractArray{Complex{T},2}}, pivot::Union{Val{false}, Val{true}}; check) where T<:AbstractFloat in LinearAlgebra at /home/buildbot/build-worker/worker/juliapro-release-centos7-0_6/build/tmp_julia/share/julia/stdlib/v1.2/LinearAlgebra/src/lu.jl:142\n",
       "[8] lu(A::AbstractArray{T,2}; check) where T in LinearAlgebra at /home/buildbot/build-worker/worker/juliapro-release-centos7-0_6/build/tmp_julia/share/julia/stdlib/v1.2/LinearAlgebra/src/lu.jl:242\n",
       "[9] lu(A::AbstractArray{T,2}, pivot::Union{Val{false}, Val{true}}; check) where T in LinearAlgebra at /home/buildbot/build-worker/worker/juliapro-release-centos7-0_6/build/tmp_julia/share/julia/stdlib/v1.2/LinearAlgebra/src/lu.jl:235\n",
       "[10] lu(S::LU) in LinearAlgebra at /home/buildbot/build-worker/worker/juliapro-release-centos7-0_6/build/tmp_julia/share/julia/stdlib/v1.2/LinearAlgebra/src/lu.jl:255\n",
       "[11] lu(x::Number; check) in LinearAlgebra at /home/buildbot/build-worker/worker/juliapro-release-centos7-0_6/build/tmp_julia/share/julia/stdlib/v1.2/LinearAlgebra/src/lu.jl:257"
      ]
     },
     "execution_count": 10,
     "metadata": {},
     "output_type": "execute_result"
    }
   ],
   "source": [
    "methods(lu)"
   ]
  }
 ],
 "metadata": {
  "kernelspec": {
   "display_name": "Julia 1.2.0",
   "language": "julia",
   "name": "julia-1.2"
  },
  "language_info": {
   "file_extension": ".jl",
   "mimetype": "application/julia",
   "name": "julia",
   "version": "1.2.0"
  }
 },
 "nbformat": 4,
 "nbformat_minor": 2
}
