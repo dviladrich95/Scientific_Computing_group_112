{
 "cells": [
  {
   "cell_type": "markdown",
   "metadata": {},
   "source": [
    "1+1"
   ]
  },
  {
   "cell_type": "code",
   "execution_count": 98,
   "metadata": {},
   "outputs": [
    {
     "name": "stdout",
     "output_type": "stream",
     "text": [
      "\u001b[32m\u001b[1m  Building\u001b[22m\u001b[39m FFMPEG → `~/.julia/packages/FFMPEG/bkWgb/deps/build.log`\n"
     ]
    }
   ],
   "source": [
    "] build FFMPEG"
   ]
  },
  {
   "cell_type": "code",
   "execution_count": 99,
   "metadata": {},
   "outputs": [
    {
     "name": "stdout",
     "output_type": "stream",
     "text": [
      "\u001b[32m\u001b[1m Resolving\u001b[22m\u001b[39m package versions...\n",
      "\u001b[32m\u001b[1m  Updating\u001b[22m\u001b[39m `~/.julia/environments/v1.0/Project.toml`\n",
      "\u001b[90m [no changes]\u001b[39m\n",
      "\u001b[32m\u001b[1m  Updating\u001b[22m\u001b[39m `~/.julia/environments/v1.0/Manifest.toml`\n",
      "\u001b[90m [no changes]\u001b[39m\n",
      "\u001b[32m\u001b[1m Resolving\u001b[22m\u001b[39m package versions...\n",
      "\u001b[32m\u001b[1m  Updating\u001b[22m\u001b[39m `~/.julia/environments/v1.0/Project.toml`\n",
      "\u001b[90m [no changes]\u001b[39m\n",
      "\u001b[32m\u001b[1m  Updating\u001b[22m\u001b[39m `~/.julia/environments/v1.0/Manifest.toml`\n",
      "\u001b[90m [no changes]\u001b[39m\n"
     ]
    }
   ],
   "source": [
    "using Pkg\n",
    "using LinearAlgebra\n",
    "using SparseArrays\n",
    "\n",
    "Pkg.add(\"Plots\")\n",
    "using Plots\n",
    "Pkg.add(\"BenchmarkTools\")\n",
    "using BenchmarkTools"
   ]
  },
  {
   "cell_type": "code",
   "execution_count": 100,
   "metadata": {},
   "outputs": [
    {
     "data": {
      "text/plain": [
       "make_matrix (generic function with 1 method)"
      ]
     },
     "execution_count": 100,
     "metadata": {},
     "output_type": "execute_result"
    }
   ],
   "source": [
    "function make_matrix(N,alpha_thermal)\n",
    "    h=1/(N-1)\n",
    "    dl = -1/h*ones(N-1);\n",
    "    du = -1/h*ones(N-1);\n",
    "    d = 1/h*2*ones(N);\n",
    "    \n",
    "    d[1]=1/h+alpha_thermal\n",
    "    d[N]=1/h+alpha_thermal\n",
    "    A=Tridiagonal(dl, d, du)\n",
    "    return A\n",
    "end"
   ]
  },
  {
   "cell_type": "code",
   "execution_count": 101,
   "metadata": {},
   "outputs": [
    {
     "data": {
      "text/plain": [
       "Progonka (generic function with 1 method)"
      ]
     },
     "execution_count": 101,
     "metadata": {},
     "output_type": "execute_result"
    }
   ],
   "source": [
    "function Progonka(A,f)\n",
    "    N=length(f)\n",
    "    u=zeros(N)\n",
    "    a=[0;diag(A[2:end,1:end-1])]\n",
    "    b=diag(A)\n",
    "    c=diag(A[1:end-1,2:end])\n",
    "    alpha=zeros(N)\n",
    "    beta=zeros(N)\n",
    "    \n",
    "    alpha[2]=-c[1]/b[1]\n",
    "    beta[2]=f[1]/b[1]\n",
    "    \n",
    "    for i in 2:N-1\n",
    "        alpha[i+1]=-c[i]/(a[i]*alpha[i]+b[i])\n",
    "        beta[i+1]=(f[i]-a[i]*beta[i])/(a[i]*alpha[i]+b[i])\n",
    "    end\n",
    "    u[N]=(f[N]-a[N]*beta[N])/(a[N]*alpha[N]+b[N])\n",
    "    for i in N-1:-1:1\n",
    "        u[i]=alpha[i+1]*u[i+1]+beta[i+1]\n",
    "    end\n",
    "    return u\n",
    "end "
   ]
  },
  {
   "cell_type": "code",
   "execution_count": 102,
   "metadata": {
    "scrolled": false
   },
   "outputs": [
    {
     "data": {
      "text/plain": [
       "0"
      ]
     },
     "execution_count": 102,
     "metadata": {},
     "output_type": "execute_result"
    }
   ],
   "source": [
    "k=6\n",
    "alpha_thermal=1\n",
    "v_l=0\n",
    "v_r=0\n",
    "\n",
    "N=2^k+1\n",
    "h=1/(N-1)\n",
    "u_real=-h^2/2*collect(1:N).*collect(1:N) .+ h/2*collect(1:N) .+ 1/2\n",
    "f=h*ones(N)\n",
    "f[1]=alpha_thermal*v_l\n",
    "f[N]=alpha_thermal*v_r"
   ]
  },
  {
   "cell_type": "code",
   "execution_count": null,
   "metadata": {},
   "outputs": [],
   "source": []
  },
  {
   "cell_type": "code",
   "execution_count": 103,
   "metadata": {},
   "outputs": [
    {
     "data": {
      "text/plain": [
       "4097×4097 Tridiagonal{Float64,Array{Float64,1}}:\n",
       "  4097.0  -4096.0       ⋅        ⋅   …       ⋅        ⋅        ⋅        ⋅ \n",
       " -4096.0   8192.0  -4096.0       ⋅           ⋅        ⋅        ⋅        ⋅ \n",
       "      ⋅   -4096.0   8192.0  -4096.0          ⋅        ⋅        ⋅        ⋅ \n",
       "      ⋅        ⋅   -4096.0   8192.0          ⋅        ⋅        ⋅        ⋅ \n",
       "      ⋅        ⋅        ⋅   -4096.0          ⋅        ⋅        ⋅        ⋅ \n",
       "      ⋅        ⋅        ⋅        ⋅   …       ⋅        ⋅        ⋅        ⋅ \n",
       "      ⋅        ⋅        ⋅        ⋅           ⋅        ⋅        ⋅        ⋅ \n",
       "      ⋅        ⋅        ⋅        ⋅           ⋅        ⋅        ⋅        ⋅ \n",
       "      ⋅        ⋅        ⋅        ⋅           ⋅        ⋅        ⋅        ⋅ \n",
       "      ⋅        ⋅        ⋅        ⋅           ⋅        ⋅        ⋅        ⋅ \n",
       "      ⋅        ⋅        ⋅        ⋅   …       ⋅        ⋅        ⋅        ⋅ \n",
       "      ⋅        ⋅        ⋅        ⋅           ⋅        ⋅        ⋅        ⋅ \n",
       "      ⋅        ⋅        ⋅        ⋅           ⋅        ⋅        ⋅        ⋅ \n",
       "     ⋮                               ⋱                        ⋮           \n",
       "      ⋅        ⋅        ⋅        ⋅   …       ⋅        ⋅        ⋅        ⋅ \n",
       "      ⋅        ⋅        ⋅        ⋅           ⋅        ⋅        ⋅        ⋅ \n",
       "      ⋅        ⋅        ⋅        ⋅           ⋅        ⋅        ⋅        ⋅ \n",
       "      ⋅        ⋅        ⋅        ⋅           ⋅        ⋅        ⋅        ⋅ \n",
       "      ⋅        ⋅        ⋅        ⋅           ⋅        ⋅        ⋅        ⋅ \n",
       "      ⋅        ⋅        ⋅        ⋅   …       ⋅        ⋅        ⋅        ⋅ \n",
       "      ⋅        ⋅        ⋅        ⋅           ⋅        ⋅        ⋅        ⋅ \n",
       "      ⋅        ⋅        ⋅        ⋅      -4096.0       ⋅        ⋅        ⋅ \n",
       "      ⋅        ⋅        ⋅        ⋅       8192.0  -4096.0       ⋅        ⋅ \n",
       "      ⋅        ⋅        ⋅        ⋅      -4096.0   8192.0  -4096.0       ⋅ \n",
       "      ⋅        ⋅        ⋅        ⋅   …       ⋅   -4096.0   8192.0  -4096.0\n",
       "      ⋅        ⋅        ⋅        ⋅           ⋅        ⋅   -4096.0   4097.0"
      ]
     },
     "execution_count": 103,
     "metadata": {},
     "output_type": "execute_result"
    }
   ],
   "source": [
    "A=make_matrix(N,alpha_thermal)"
   ]
  },
  {
   "cell_type": "code",
   "execution_count": 104,
   "metadata": {},
   "outputs": [
    {
     "name": "stdout",
     "output_type": "stream",
     "text": [
      "error1 = norm(u_real - Progonka(A, f), 1) / N = 0.00012204051645344211\n"
     ]
    },
    {
     "data": {
      "text/plain": [
       "BenchmarkTools.Trial: \n",
       "  memory estimate:  836.49 KiB\n",
       "  allocs estimate:  144\n",
       "  --------------\n",
       "  minimum time:     436.586 ms (0.00% GC)\n",
       "  median time:      458.740 ms (0.00% GC)\n",
       "  mean time:        455.775 ms (0.10% GC)\n",
       "  maximum time:     471.262 ms (1.09% GC)\n",
       "  --------------\n",
       "  samples:          11\n",
       "  evals/sample:     1"
      ]
     },
     "execution_count": 104,
     "metadata": {},
     "output_type": "execute_result"
    }
   ],
   "source": [
    "@show error1=norm(u_real-Progonka(A,f),1)/N\n",
    "@benchmark Progonka(A,f)"
   ]
  },
  {
   "cell_type": "code",
   "execution_count": 105,
   "metadata": {},
   "outputs": [
    {
     "name": "stdout",
     "output_type": "stream",
     "text": [
      "error2 = norm(u_real - A \\ f, 1) / N = 0.0001220405164561813\n"
     ]
    },
    {
     "data": {
      "text/plain": [
       "BenchmarkTools.Trial: \n",
       "  memory estimate:  176.73 KiB\n",
       "  allocs estimate:  15\n",
       "  --------------\n",
       "  minimum time:     119.639 μs (0.00% GC)\n",
       "  median time:      127.528 μs (0.00% GC)\n",
       "  mean time:        207.612 μs (30.33% GC)\n",
       "  maximum time:     4.681 ms (93.26% GC)\n",
       "  --------------\n",
       "  samples:          10000\n",
       "  evals/sample:     1"
      ]
     },
     "execution_count": 105,
     "metadata": {},
     "output_type": "execute_result"
    }
   ],
   "source": [
    "@show error2=norm(u_real-A\\f,1)/N\n",
    "@benchmark A\\f"
   ]
  },
  {
   "cell_type": "code",
   "execution_count": 106,
   "metadata": {},
   "outputs": [
    {
     "name": "stdout",
     "output_type": "stream",
     "text": [
      "error3 = norm(u_real - A \\ f, 1) / N = 0.00012204051240483864\n"
     ]
    },
    {
     "data": {
      "text/plain": [
       "BenchmarkTools.Trial: \n",
       "  memory estimate:  1.08 MiB\n",
       "  allocs estimate:  49\n",
       "  --------------\n",
       "  minimum time:     1.340 ms (0.00% GC)\n",
       "  median time:      1.509 ms (0.00% GC)\n",
       "  mean time:        2.050 ms (18.87% GC)\n",
       "  maximum time:     7.287 ms (61.09% GC)\n",
       "  --------------\n",
       "  samples:          2425\n",
       "  evals/sample:     1"
      ]
     },
     "execution_count": 106,
     "metadata": {},
     "output_type": "execute_result"
    }
   ],
   "source": [
    "A=sparse(A)\n",
    "@show error3=norm(u_real-A\\f,1)/N\n",
    "@benchmark A\\f"
   ]
  },
  {
   "cell_type": "code",
   "execution_count": 107,
   "metadata": {},
   "outputs": [
    {
     "name": "stdout",
     "output_type": "stream",
     "text": [
      "error4 = norm(u_real - A \\ f, 1) / N = 0.0001220405169308017\n"
     ]
    },
    {
     "ename": "InexactError",
     "evalue": "InexactError: trunc(Int32, 3.203524328e9)",
     "output_type": "error",
     "traceback": [
      "InexactError: trunc(Int32, 3.203524328e9)",
      "",
      "Stacktrace:",
      " [1] trunc at ./float.jl:672 [inlined]",
      " [2] ceil(::Type{Int32}, ::Float64) at ./float.jl:357",
      " [3] #tune!#44(::Bool, ::String, ::Base.Iterators.Pairs{Union{},Union{},Tuple{},NamedTuple{(),Tuple{}}}, ::Function, ::BenchmarkTools.Benchmark{Symbol(\"##benchmark#568\")}, ::BenchmarkTools.Parameters) at /home/daniel/.julia/packages/BenchmarkTools/7aqwe/src/execution.jl:135",
      " [4] tune! at /home/daniel/.julia/packages/BenchmarkTools/7aqwe/src/execution.jl:134 [inlined] (repeats 2 times)",
      " [5] top-level scope at /home/daniel/.julia/packages/BenchmarkTools/7aqwe/src/execution.jl:214",
      " [6] top-level scope at In[107]:3"
     ]
    }
   ],
   "source": [
    "A=Matrix(A)\n",
    "@show error4=norm(u_real-A\\f,1)/N\n",
    "@benchmark A\\f"
   ]
  },
  {
   "cell_type": "code",
   "execution_count": 108,
   "metadata": {},
   "outputs": [
    {
     "name": "stdout",
     "output_type": "stream",
     "text": [
      "error5 = norm(u_real - inv(A) * f, 1) / N = 0.00012204051693118792\n"
     ]
    },
    {
     "ename": "InexactError",
     "evalue": "InexactError: trunc(Int32, 1.0664323998e10)",
     "output_type": "error",
     "traceback": [
      "InexactError: trunc(Int32, 1.0664323998e10)",
      "",
      "Stacktrace:",
      " [1] trunc at ./float.jl:672 [inlined]",
      " [2] ceil(::Type{Int32}, ::Float64) at ./float.jl:357",
      " [3] #tune!#44(::Bool, ::String, ::Base.Iterators.Pairs{Union{},Union{},Tuple{},NamedTuple{(),Tuple{}}}, ::Function, ::BenchmarkTools.Benchmark{Symbol(\"##benchmark#572\")}, ::BenchmarkTools.Parameters) at /home/daniel/.julia/packages/BenchmarkTools/7aqwe/src/execution.jl:135",
      " [4] tune! at /home/daniel/.julia/packages/BenchmarkTools/7aqwe/src/execution.jl:134 [inlined] (repeats 2 times)",
      " [5] top-level scope at /home/daniel/.julia/packages/BenchmarkTools/7aqwe/src/execution.jl:214",
      " [6] top-level scope at In[108]:2"
     ]
    }
   ],
   "source": [
    "@show error5=norm(u_real-inv(A)*f,1)/N\n",
    "@benchmark inv(A)*f\n",
    "\n",
    "x=h*collect(1:N)\n",
    "plot(x,u_real)\n",
    "plot!(x,inv(A)*f)"
   ]
  },
  {
   "cell_type": "code",
   "execution_count": 109,
   "metadata": {},
   "outputs": [
    {
     "ename": "InexactError",
     "evalue": "InexactError: trunc(Int32, 1.1536691816e10)",
     "output_type": "error",
     "traceback": [
      "InexactError: trunc(Int32, 1.1536691816e10)",
      "",
      "Stacktrace:",
      " [1] trunc at ./float.jl:672 [inlined]",
      " [2] ceil(::Type{Int32}, ::Float64) at ./float.jl:357",
      " [3] #tune!#44(::Bool, ::String, ::Base.Iterators.Pairs{Union{},Union{},Tuple{},NamedTuple{(),Tuple{}}}, ::Function, ::BenchmarkTools.Benchmark{Symbol(\"##benchmark#580\")}, ::BenchmarkTools.Parameters) at /home/daniel/.julia/packages/BenchmarkTools/7aqwe/src/execution.jl:135",
      " [4] tune! at /home/daniel/.julia/packages/BenchmarkTools/7aqwe/src/execution.jl:134 [inlined] (repeats 2 times)",
      " [5] top-level scope at /home/daniel/.julia/packages/BenchmarkTools/7aqwe/src/execution.jl:391",
      " [6] top-level scope at In[109]:1"
     ]
    }
   ],
   "source": [
    "\n"
   ]
  },
  {
   "cell_type": "code",
   "execution_count": 110,
   "metadata": {},
   "outputs": [
    {
     "data": {
      "text/plain": [
       "1025-element Array{Float64,1}:\n",
       " 0.499511718750261  \n",
       " 0.49999952316310453\n",
       " 0.5004863739016275 \n",
       " 0.50097227096584   \n",
       " 0.5014572143557301 \n",
       " 0.5019412040713059 \n",
       " 0.5024242401125699 \n",
       " 0.5029063224795127 \n",
       " 0.503387451172136  \n",
       " 0.5038676261904517 \n",
       " 0.5043468475344451 \n",
       " 0.5048251152041197 \n",
       " 0.5053024291994862 \n",
       " ⋮                  \n",
       " 0.504825115204396  \n",
       " 0.5043468475347178 \n",
       " 0.5038676261907236 \n",
       " 0.5033874511724121 \n",
       " 0.502906322479785  \n",
       " 0.5024242401128413 \n",
       " 0.5019412040715807 \n",
       " 0.5014572143560043 \n",
       " 0.5009722709661111 \n",
       " 0.5004863739019014 \n",
       " 0.49999952316337554\n",
       " 0.49951171875053346"
      ]
     },
     "execution_count": 110,
     "metadata": {},
     "output_type": "execute_result"
    }
   ],
   "source": []
  }
 ],
 "metadata": {
  "kernelspec": {
   "display_name": "Julia 1.0.4",
   "language": "julia",
   "name": "julia-1.0"
  },
  "language_info": {
   "file_extension": ".jl",
   "mimetype": "application/julia",
   "name": "julia",
   "version": "1.0.4"
  }
 },
 "nbformat": 4,
 "nbformat_minor": 2
}
