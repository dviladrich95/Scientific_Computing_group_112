{
 "cells": [
  {
   "cell_type": "code",
   "execution_count": 2,
   "metadata": {},
   "outputs": [
    {
     "name": "stdout",
     "output_type": "stream",
     "text": [
      "typeof(value) = Float64\n"
     ]
    },
    {
     "data": {
      "text/plain": [
       "Float64"
      ]
     },
     "execution_count": 2,
     "metadata": {},
     "output_type": "execute_result"
    }
   ],
   "source": [
    "k = 100;\n",
    "value = 0;\n",
    "for i=1:k\n",
    "    value = value + 1/(i^2);\n",
    "end\n",
    "\n",
    "@show typeof(value)"
   ]
  },
  {
   "cell_type": "code",
   "execution_count": 123,
   "metadata": {
    "scrolled": true
   },
   "outputs": [
    {
     "name": "stdout",
     "output_type": "stream",
     "text": [
      "average = 145.3954927884592\n"
     ]
    },
    {
     "data": {
      "text/plain": [
       "145.3954927884592"
      ]
     },
     "execution_count": 123,
     "metadata": {},
     "output_type": "execute_result"
    }
   ],
   "source": [
    "#import Pkg\n",
    "#Pkg.add(\"BenchmarkTools\")\n",
    "using BenchmarkTools\n",
    "using LinearAlgebra\n",
    "using SparseArrays\n",
    "\n",
    "function u_real(x,alpha)\n",
    "    value = -1/2 * x^2 + 1/2 * x + 1/(2 * alpha);\n",
    "    return value\n",
    "end\n",
    "\n",
    "function Progonka(A,b)\n",
    "    N = length(b);\n",
    "    alpha = ones(N);\n",
    "    beta = ones(N);\n",
    "    u = ones(N);\n",
    "    alpha[2] =  - A[1,2] / A[1,1];\n",
    "    beta[2] = b[1] / A[1,1];\n",
    "    \n",
    "    for i = 2:N-1\n",
    "        alpha[i+1] = - A[i,i+1] / (A[i,i-1] * alpha[i] + A[i,i]);\n",
    "        beta[i+1] = (b[i] - A[i,i-1] * beta[i]) / (A[i,i-1] * alpha[i] + A[i,i]);\n",
    "    end\n",
    "    \n",
    "    u[N] = (b[N] - A[N,N-1] * beta[N]) / (A[N,N-1] * alpha[N] + A[N,N]);\n",
    "    \n",
    "    for i = N-1:-1:1\n",
    "        u[i] = alpha[i+1] * u[i+1] + beta[i+1];\n",
    "    end\n",
    "    \n",
    "    return u;\n",
    "end\n",
    "\n",
    "k = 6;\n",
    "N = 2^k+1;\n",
    "alpha = 1;\n",
    "v_L = 0;\n",
    "v_R = 0;\n",
    "f = 1;\n",
    "h = 1/(N-1);\n",
    "dl = ones(N-1);\n",
    "d = ones(N);\n",
    "b = ones(N);\n",
    "u = ones(N);\n",
    "x = ones(N);\n",
    "u_r = ones(N);\n",
    "error = ones(N);\n",
    "average = 0;\n",
    "\n",
    "for i = 1:N\n",
    "    x[i] = (i-1) * h;\n",
    "end\n",
    "\n",
    "d = d * 2/h;\n",
    "dl = dl * (-1/h);\n",
    "d[1] = alpha + 1/h;\n",
    "d[N] = alpha + 1/h;\n",
    "\n",
    "b = b * f * h;\n",
    "b[1] = alpha * v_L;\n",
    "b[N] = alpha * v_R;\n",
    "\n",
    "A_tri = Tridiagonal(dl,d,dl);\n",
    "\n",
    "#u = A\\b;\n",
    "\n",
    "#u = Progonka(A_tri,b);\n",
    "\n",
    "#F = lu(A_tri);\n",
    "#y = F.L\\b;\n",
    "#u = F.U\\y;\n",
    "\n",
    "#A_full = Matrix(A_tri);\n",
    "#F = lu(A_full);\n",
    "#y = F.L\\b;\n",
    "#u = F.U\\y;\n",
    "\n",
    "A_sparse = sparse(A_full);\n",
    "F = lu(A_sparse);\n",
    "y = F.L\\b;\n",
    "u = F.U\\y;\n",
    "\n",
    "#A_inv = inv(A_tri);\n",
    "#@show A_inv\n",
    "#u = A_inv * b;\n",
    "\n",
    "#nonzerocounter = 0;\n",
    "#for i = 1:N\n",
    "#    for j = 1:N\n",
    "#        if A_inv[i,j] != 0\n",
    "#            nonzerocounter = nonzerocounter + 1;\n",
    "#        end\n",
    "#    end\n",
    "#end\n",
    "\n",
    "#@show nonzerocounter\n",
    "#@show N*N\n",
    "\n",
    "\n",
    "\n",
    "\n",
    "for i = 1:N\n",
    "    u_r[i] = u_real(x[i],alpha);\n",
    "    error[i] = abs(u[i]-u_r[i]);\n",
    "    average = average + error[i];\n",
    "end\n",
    "\n",
    "average = average / N;\n",
    "\n",
    "\n",
    "\n",
    "@show average\n",
    "#@benchmark Progonka(A_tri,b)\n",
    "#@benchmark lu(A_tri)\n",
    "\n",
    "\n"
   ]
  },
  {
   "cell_type": "code",
   "execution_count": 108,
   "metadata": {},
   "outputs": [
    {
     "ename": "UndefVarError",
     "evalue": "UndefVarError: benchmark not defined",
     "output_type": "error",
     "traceback": [
      "UndefVarError: benchmark not defined",
      "",
      "Stacktrace:",
      " [1] top-level scope at In[108]:1"
     ]
    }
   ],
   "source": [
    "benchmark"
   ]
  },
  {
   "cell_type": "code",
   "execution_count": null,
   "metadata": {},
   "outputs": [],
   "source": []
  },
  {
   "cell_type": "code",
   "execution_count": null,
   "metadata": {},
   "outputs": [],
   "source": []
  },
  {
   "cell_type": "code",
   "execution_count": null,
   "metadata": {},
   "outputs": [],
   "source": []
  },
  {
   "cell_type": "code",
   "execution_count": null,
   "metadata": {},
   "outputs": [],
   "source": []
  }
 ],
 "metadata": {
  "kernelspec": {
   "display_name": "Julia 1.2.0",
   "language": "julia",
   "name": "julia-1.2"
  },
  "language_info": {
   "file_extension": ".jl",
   "mimetype": "application/julia",
   "name": "julia",
   "version": "1.2.0"
  }
 },
 "nbformat": 4,
 "nbformat_minor": 2
}
